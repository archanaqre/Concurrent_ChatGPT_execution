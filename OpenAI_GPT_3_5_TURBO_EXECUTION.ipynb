{
  "nbformat": 4,
  "nbformat_minor": 0,
  "metadata": {
    "colab": {
      "provenance": [],
      "authorship_tag": "ABX9TyP9qhskaaYo10hBWsNaMmz1",
      "include_colab_link": true
    },
    "kernelspec": {
      "name": "python3",
      "display_name": "Python 3"
    },
    "language_info": {
      "name": "python"
    }
  },
  "cells": [
    {
      "cell_type": "markdown",
      "metadata": {
        "id": "view-in-github",
        "colab_type": "text"
      },
      "source": [
        "<a href=\"https://colab.research.google.com/github/archanaqre/Concurrent_ChatGPT_execution/blob/main/OpenAI_GPT_3_5_TURBO_EXECUTION.ipynb\" target=\"_parent\"><img src=\"https://colab.research.google.com/assets/colab-badge.svg\" alt=\"Open In Colab\"/></a>"
      ]
    },
    {
      "cell_type": "code",
      "source": [
        "!pip install openai\n",
        "!pip install openai-multi-client"
      ],
      "metadata": {
        "id": "E0jccmSIvtr3"
      },
      "execution_count": null,
      "outputs": []
    },
    {
      "cell_type": "code",
      "source": [
        "import openai\n",
        "import json\n",
        "import csv\n",
        "import requests"
      ],
      "metadata": {
        "id": "LsbmQAnI6Ggl"
      },
      "execution_count": null,
      "outputs": []
    },
    {
      "cell_type": "code",
      "source": [
        "import csv\n",
        "import openai\n",
        "from openai_multi_client import OpenAIMultiClient, Payload\n",
        "\n",
        "openai.api_key = 'INSERT-API-KEY'  # Replace with your OpenAI API key\n",
        "\n",
        "input_file_path = \"INPUT-FILE-PATH.txt\"  # Replace with the path to your input file\n",
        "output_file_path = \"oUTPUT-FILE-PATH.csv\"  # Replace with the path to the output CSV file\n",
        "\n",
        "api = OpenAIMultiClient(concurrency=15, max_retries=40, wait_interval=30, endpoint=\"chats\", data_template={\"model\": \"gpt-3.5-turbo\"})\n",
        "\n",
        "\n",
        "def on_result(result: Payload):\n",
        "\tline = result.metadata['line']\n",
        "\tresponse = result.response['choices'][0]['message']['content']  # Extract text from json outputs\n",
        "\n",
        "\t# Append the result to the output_data list\n",
        "\toutput_data.append([line, response])\n",
        "\twrite_output_to_csv()\n",
        "\n",
        "def write_output_to_csv():\n",
        "    with open(output_file_path, \"a\", newline=\"\") as file:\n",
        "        writer = csv.writer(file)\n",
        "        writer.writerows(output_data)\n",
        "\n",
        "    # Clear the output_data list after writing to the CSV file\n",
        "    output_data.clear()\n",
        "\n",
        "\n",
        "def make_requests():\n",
        "    with open(input_file_path, \"r\") as file:\n",
        "        lines = file.readlines()\n",
        "\n",
        "    for line in lines:\n",
        "        line = line.strip(\"\\n\")\n",
        "        messages = []\n",
        "        messages = [{\"role\": \"system\", \"content\": \"You are a translator assistant fluent in Malay-English codeswitched language\"},\n",
        "        \t{\"role\": \"user\", \"content\": f\"Given a codeswitched reference sentence '{line}' in Malay-English, generate 5 codeswitched variations of the sentence that are semantically equivalent to the original sentence. The variations should be of similar length to the original sentence.\"}]\n",
        "\n",
        "        api.request(data={\"messages\": messages, \"presence_penalty\": -1.0}, metadata={'line': line}, callback=on_result)\n",
        "\n",
        "\n",
        "output_data = []  # List to store the generated output\n",
        "\n",
        "api.run_request_function(make_requests)\n",
        "api.pull_all()\n",
        "\n",
        "# Write any remaining output_data to the CSV file\n",
        "write_output_to_csv()"
      ],
      "metadata": {
        "id": "5AekaYrv6Qi_"
      },
      "execution_count": null,
      "outputs": []
    }
  ]
}